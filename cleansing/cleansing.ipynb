{
 "cells": [
  {
   "cell_type": "code",
   "execution_count": 87,
   "metadata": {},
   "outputs": [],
   "source": [
    "import pandas as pd\n",
    "import numpy as np\n",
    "import matplotlib.pyplot as plt\n",
    "from datetime import datetime"
   ]
  },
  {
   "cell_type": "code",
   "execution_count": 72,
   "metadata": {},
   "outputs": [],
   "source": [
    "data_path = 'C:/Users/liwu/XstoreLogProject/data/'\n",
    "file_name = 'xstore_error_log.csv'"
   ]
  },
  {
   "cell_type": "code",
   "execution_count": 77,
   "metadata": {},
   "outputs": [],
   "source": [
    "class cleansing:\n",
    "    def __init__(self, data_path, file_name):\n",
    "        self.data_path = data_path\n",
    "        self.file_name = file_name\n",
    "    \n",
    "    def before_info(self):\n",
    "        df = pd.read_csv(data_path + file_name)\n",
    "        shape = df.shape\n",
    "        print(\"The total number of error codes before cleansing:{}\".format(str(shape[0])))\n",
    "        print(\"with earliest date {} and latest date {}\".format(df.iloc[[0], df.columns.get_loc('time')],df.iloc[[-1], df.columns.get_loc('time')]))\n",
    "    \n",
    "    def basic_step(self):\n",
    "        df = pd.read_csv(data_path + file_name)\n",
    "        #get date and time split out\n",
    "        df['date'] = pd.to_datetime(df.time.str[:10])\n",
    "        df['time'] = df.time.str[11:19]\n",
    "\n",
    "\n",
    "        #basic cleansing\n",
    "        df.isnull()\n",
    "        df.dropna(axis=0,how='any')\n",
    "        df.replace(to_replace=None,value=None)\n",
    "        \n",
    "        #basic visualization \n",
    "        #rename_axis('unique_values').reset_index(name='counts')\n",
    "        time_df = df['date'].value_counts().rename_axis('date')\n",
    "        time_df = time_df.to_frame()\n",
    "        time_df.plot()\n",
    "        \n",
    "        \n",
    "        #write to file\n",
    "        df.to_csv(self.data_path+self.file_name + '_clean_basic.csv', index=False)\n",
    "    \n",
    "    \n",
    "    def simplify_info(self):\n",
    "        '''\n",
    "        This version of data cleansing added the day of week and hour,\n",
    "        and eliminated the original _time.\n",
    "        Moreover, it dropped duplicates of the errors happening in the same hour.\n",
    "        '''\n",
    "        df = pd.read_csv(self.data_path + self.file_name + 'clean_basic.csv')\n",
    "        df['hour'] = df.time.str[:2]\n",
    "        df['time'] = df.time.str[:5]\n",
    "        \n",
    "        #Remove duplicate rows with same error code and description that happens in the same minute\n",
    "        df.drop_duplicates(inplace = True)\n",
    "        df['date'] = pd.to_datetime(df.date)\n",
    "        df['weekday'] = df.date.dt.weekday\n",
    "        df.to_csv(self.data_path + self.file_name + '_clean_simplify_info.csv',index=False)\n",
    "        \n",
    "    def after_info(self):\n",
    "        df = pd.read_csv(self.data_path + self.file_name + '_clean_simplify_info.csv')\n",
    "        shape = df.shape\n",
    "        print(\"The total number of error codes after cleansing:{}\".format(str(shape[0])))\n",
    "        print(\"with ealierst date {} and latest date {}\".format(df.iloc[[0], df.columns.get_loc('date')],df.iloc[[-1], df.columns.get_loc('date')]))\n",
    "    \n",
    "        \n",
    "        \n",
    "    \n",
    "        \n",
    "        \n",
    "        \n",
    "\n"
   ]
  },
  {
   "cell_type": "code",
   "execution_count": 78,
   "metadata": {},
   "outputs": [],
   "source": [
    "c = cleansing(data_path, file_name)"
   ]
  },
  {
   "cell_type": "code",
   "execution_count": 79,
   "metadata": {},
   "outputs": [
    {
     "name": "stdout",
     "output_type": "stream",
     "text": [
      "The total number of error codes before cleansing:10098183\n",
      "with earliest date 0    2019-07-17 18:51:57\n",
      "Name: time, dtype: object and latest date 10098182    2019-01-17 02:32:37\n",
      "Name: time, dtype: object\n"
     ]
    }
   ],
   "source": [
    "c.before_info()"
   ]
  },
  {
   "cell_type": "code",
   "execution_count": 80,
   "metadata": {},
   "outputs": [
    {
     "name": "stdout",
     "output_type": "stream",
     "text": [
      "           date  counts\n",
      "0    2019-02-13  210924\n",
      "1    2019-05-03  169002\n",
      "2    2018-12-11  153018\n",
      "3    2019-02-09  121323\n",
      "4    2019-03-29  120416\n",
      "5    2018-12-14  117274\n",
      "6    2018-11-29  116452\n",
      "7    2018-11-19  113912\n",
      "8    2018-12-17  108212\n",
      "9    2018-12-03  107004\n",
      "10   2018-12-02  102714\n",
      "11   2019-05-16  101206\n",
      "12   2018-12-07   95704\n",
      "13   2019-06-04   93669\n",
      "14   2018-12-18   91812\n",
      "15   2019-01-26   91680\n",
      "16   2018-12-15   91672\n",
      "17   2019-01-18   91528\n",
      "18   2019-01-19   90211\n",
      "19   2019-01-20   88184\n",
      "20   2018-12-06   88060\n",
      "21   2019-01-25   86681\n",
      "22   2019-01-21   86521\n",
      "23   2019-01-24   84823\n",
      "24   2019-05-13   83774\n",
      "25   2019-01-28   83771\n",
      "26   2018-12-01   83452\n",
      "27   2019-01-22   82206\n",
      "28   2019-01-27   78982\n",
      "29   2019-01-30   75273\n",
      "..          ...     ...\n",
      "233  2018-11-02   10508\n",
      "234  2019-05-20   10451\n",
      "235  2019-05-17   10414\n",
      "236  2019-06-23   10395\n",
      "237  2018-11-04   10394\n",
      "238  2019-05-27   10332\n",
      "239  2018-12-22   10316\n",
      "240  2019-05-29    9834\n",
      "241  2019-07-03    9661\n",
      "242  2019-05-30    8661\n",
      "243  2018-11-01    8348\n",
      "244  2019-06-09    8313\n",
      "245  2018-12-21    8208\n",
      "246  2019-07-06    7637\n",
      "247  2019-07-13    7540\n",
      "248  2019-07-08    7512\n",
      "249  2019-06-07    7436\n",
      "250  2018-11-07    7252\n",
      "251  2019-07-10    7211\n",
      "252  2019-07-07    6658\n",
      "253  2018-12-25    6516\n",
      "254  2019-07-09    5904\n",
      "255  2019-07-16    5771\n",
      "256  2019-07-12    4907\n",
      "257  2019-07-11    4553\n",
      "258  2019-07-15    4049\n",
      "259  2018-11-12    3996\n",
      "260  2019-07-17    3682\n",
      "261  2018-11-16    2916\n",
      "262  2018-12-26     344\n",
      "\n",
      "[263 rows x 2 columns]\n"
     ]
    },
    {
     "ename": "KeyError",
     "evalue": "'Level date must be same as name (None)'",
     "output_type": "error",
     "traceback": [
      "\u001b[1;31m--------------------------------------------\u001b[0m",
      "\u001b[1;31mKeyError\u001b[0m   Traceback (most recent call last)",
      "\u001b[1;32m<ipython-input-80-086301f5e814>\u001b[0m in \u001b[0;36m<module>\u001b[1;34m\u001b[0m\n\u001b[1;32m----> 1\u001b[1;33m \u001b[0mc\u001b[0m\u001b[1;33m.\u001b[0m\u001b[0mbasic_step\u001b[0m\u001b[1;33m(\u001b[0m\u001b[1;33m)\u001b[0m\u001b[1;33m\u001b[0m\u001b[1;33m\u001b[0m\u001b[0m\n\u001b[0m",
      "\u001b[1;32m<ipython-input-77-2ab58c63c3b0>\u001b[0m in \u001b[0;36mbasic_step\u001b[1;34m(self)\u001b[0m\n\u001b[0;32m     26\u001b[0m         \u001b[0mprint\u001b[0m\u001b[1;33m(\u001b[0m\u001b[0mtime_df\u001b[0m\u001b[1;33m)\u001b[0m\u001b[1;33m\u001b[0m\u001b[1;33m\u001b[0m\u001b[0m\n\u001b[0;32m     27\u001b[0m \u001b[1;33m\u001b[0m\u001b[0m\n\u001b[1;32m---> 28\u001b[1;33m         \u001b[0mtime_df\u001b[0m\u001b[1;33m.\u001b[0m\u001b[0mreset_index\u001b[0m\u001b[1;33m(\u001b[0m\u001b[1;34m'date'\u001b[0m\u001b[1;33m)\u001b[0m\u001b[1;33m.\u001b[0m\u001b[0mplot\u001b[0m\u001b[1;33m(\u001b[0m\u001b[1;33m)\u001b[0m\u001b[1;33m\u001b[0m\u001b[1;33m\u001b[0m\u001b[0m\n\u001b[0m\u001b[0;32m     29\u001b[0m \u001b[1;33m\u001b[0m\u001b[0m\n\u001b[0;32m     30\u001b[0m \u001b[1;33m\u001b[0m\u001b[0m\n",
      "\u001b[1;32mc:\\users\\liwu\\appdata\\local\\programs\\python\\python37\\lib\\site-packages\\pandas\\core\\frame.py\u001b[0m in \u001b[0;36mreset_index\u001b[1;34m(self, level, drop, inplace, col_level, col_fill)\u001b[0m\n\u001b[0;32m   4392\u001b[0m             \u001b[1;32mif\u001b[0m \u001b[1;32mnot\u001b[0m \u001b[0misinstance\u001b[0m\u001b[1;33m(\u001b[0m\u001b[0mlevel\u001b[0m\u001b[1;33m,\u001b[0m \u001b[1;33m(\u001b[0m\u001b[0mtuple\u001b[0m\u001b[1;33m,\u001b[0m \u001b[0mlist\u001b[0m\u001b[1;33m)\u001b[0m\u001b[1;33m)\u001b[0m\u001b[1;33m:\u001b[0m\u001b[1;33m\u001b[0m\u001b[1;33m\u001b[0m\u001b[0m\n\u001b[0;32m   4393\u001b[0m                 \u001b[0mlevel\u001b[0m \u001b[1;33m=\u001b[0m \u001b[1;33m[\u001b[0m\u001b[0mlevel\u001b[0m\u001b[1;33m]\u001b[0m\u001b[1;33m\u001b[0m\u001b[1;33m\u001b[0m\u001b[0m\n\u001b[1;32m-> 4394\u001b[1;33m             \u001b[0mlevel\u001b[0m \u001b[1;33m=\u001b[0m \u001b[1;33m[\u001b[0m\u001b[0mself\u001b[0m\u001b[1;33m.\u001b[0m\u001b[0mindex\u001b[0m\u001b[1;33m.\u001b[0m\u001b[0m_get_level_number\u001b[0m\u001b[1;33m(\u001b[0m\u001b[0mlev\u001b[0m\u001b[1;33m)\u001b[0m \u001b[1;32mfor\u001b[0m \u001b[0mlev\u001b[0m \u001b[1;32min\u001b[0m \u001b[0mlevel\u001b[0m\u001b[1;33m]\u001b[0m\u001b[1;33m\u001b[0m\u001b[1;33m\u001b[0m\u001b[0m\n\u001b[0m\u001b[0;32m   4395\u001b[0m             \u001b[1;32mif\u001b[0m \u001b[0mlen\u001b[0m\u001b[1;33m(\u001b[0m\u001b[0mlevel\u001b[0m\u001b[1;33m)\u001b[0m \u001b[1;33m<\u001b[0m \u001b[0mself\u001b[0m\u001b[1;33m.\u001b[0m\u001b[0mindex\u001b[0m\u001b[1;33m.\u001b[0m\u001b[0mnlevels\u001b[0m\u001b[1;33m:\u001b[0m\u001b[1;33m\u001b[0m\u001b[1;33m\u001b[0m\u001b[0m\n\u001b[0;32m   4396\u001b[0m                 \u001b[0mnew_index\u001b[0m \u001b[1;33m=\u001b[0m \u001b[0mself\u001b[0m\u001b[1;33m.\u001b[0m\u001b[0mindex\u001b[0m\u001b[1;33m.\u001b[0m\u001b[0mdroplevel\u001b[0m\u001b[1;33m(\u001b[0m\u001b[0mlevel\u001b[0m\u001b[1;33m)\u001b[0m\u001b[1;33m\u001b[0m\u001b[1;33m\u001b[0m\u001b[0m\n",
      "\u001b[1;32mc:\\users\\liwu\\appdata\\local\\programs\\python\\python37\\lib\\site-packages\\pandas\\core\\frame.py\u001b[0m in \u001b[0;36m<listcomp>\u001b[1;34m(.0)\u001b[0m\n\u001b[0;32m   4392\u001b[0m             \u001b[1;32mif\u001b[0m \u001b[1;32mnot\u001b[0m \u001b[0misinstance\u001b[0m\u001b[1;33m(\u001b[0m\u001b[0mlevel\u001b[0m\u001b[1;33m,\u001b[0m \u001b[1;33m(\u001b[0m\u001b[0mtuple\u001b[0m\u001b[1;33m,\u001b[0m \u001b[0mlist\u001b[0m\u001b[1;33m)\u001b[0m\u001b[1;33m)\u001b[0m\u001b[1;33m:\u001b[0m\u001b[1;33m\u001b[0m\u001b[1;33m\u001b[0m\u001b[0m\n\u001b[0;32m   4393\u001b[0m                 \u001b[0mlevel\u001b[0m \u001b[1;33m=\u001b[0m \u001b[1;33m[\u001b[0m\u001b[0mlevel\u001b[0m\u001b[1;33m]\u001b[0m\u001b[1;33m\u001b[0m\u001b[1;33m\u001b[0m\u001b[0m\n\u001b[1;32m-> 4394\u001b[1;33m             \u001b[0mlevel\u001b[0m \u001b[1;33m=\u001b[0m \u001b[1;33m[\u001b[0m\u001b[0mself\u001b[0m\u001b[1;33m.\u001b[0m\u001b[0mindex\u001b[0m\u001b[1;33m.\u001b[0m\u001b[0m_get_level_number\u001b[0m\u001b[1;33m(\u001b[0m\u001b[0mlev\u001b[0m\u001b[1;33m)\u001b[0m \u001b[1;32mfor\u001b[0m \u001b[0mlev\u001b[0m \u001b[1;32min\u001b[0m \u001b[0mlevel\u001b[0m\u001b[1;33m]\u001b[0m\u001b[1;33m\u001b[0m\u001b[1;33m\u001b[0m\u001b[0m\n\u001b[0m\u001b[0;32m   4395\u001b[0m             \u001b[1;32mif\u001b[0m \u001b[0mlen\u001b[0m\u001b[1;33m(\u001b[0m\u001b[0mlevel\u001b[0m\u001b[1;33m)\u001b[0m \u001b[1;33m<\u001b[0m \u001b[0mself\u001b[0m\u001b[1;33m.\u001b[0m\u001b[0mindex\u001b[0m\u001b[1;33m.\u001b[0m\u001b[0mnlevels\u001b[0m\u001b[1;33m:\u001b[0m\u001b[1;33m\u001b[0m\u001b[1;33m\u001b[0m\u001b[0m\n\u001b[0;32m   4396\u001b[0m                 \u001b[0mnew_index\u001b[0m \u001b[1;33m=\u001b[0m \u001b[0mself\u001b[0m\u001b[1;33m.\u001b[0m\u001b[0mindex\u001b[0m\u001b[1;33m.\u001b[0m\u001b[0mdroplevel\u001b[0m\u001b[1;33m(\u001b[0m\u001b[0mlevel\u001b[0m\u001b[1;33m)\u001b[0m\u001b[1;33m\u001b[0m\u001b[1;33m\u001b[0m\u001b[0m\n",
      "\u001b[1;32mc:\\users\\liwu\\appdata\\local\\programs\\python\\python37\\lib\\site-packages\\pandas\\core\\indexes\\base.py\u001b[0m in \u001b[0;36m_get_level_number\u001b[1;34m(self, level)\u001b[0m\n\u001b[0;32m   1425\u001b[0m \u001b[1;33m\u001b[0m\u001b[0m\n\u001b[0;32m   1426\u001b[0m     \u001b[1;32mdef\u001b[0m \u001b[0m_get_level_number\u001b[0m\u001b[1;33m(\u001b[0m\u001b[0mself\u001b[0m\u001b[1;33m,\u001b[0m \u001b[0mlevel\u001b[0m\u001b[1;33m)\u001b[0m\u001b[1;33m:\u001b[0m\u001b[1;33m\u001b[0m\u001b[1;33m\u001b[0m\u001b[0m\n\u001b[1;32m-> 1427\u001b[1;33m         \u001b[0mself\u001b[0m\u001b[1;33m.\u001b[0m\u001b[0m_validate_index_level\u001b[0m\u001b[1;33m(\u001b[0m\u001b[0mlevel\u001b[0m\u001b[1;33m)\u001b[0m\u001b[1;33m\u001b[0m\u001b[1;33m\u001b[0m\u001b[0m\n\u001b[0m\u001b[0;32m   1428\u001b[0m         \u001b[1;32mreturn\u001b[0m \u001b[1;36m0\u001b[0m\u001b[1;33m\u001b[0m\u001b[1;33m\u001b[0m\u001b[0m\n\u001b[0;32m   1429\u001b[0m \u001b[1;33m\u001b[0m\u001b[0m\n",
      "\u001b[1;32mc:\\users\\liwu\\appdata\\local\\programs\\python\\python37\\lib\\site-packages\\pandas\\core\\indexes\\base.py\u001b[0m in \u001b[0;36m_validate_index_level\u001b[1;34m(self, level)\u001b[0m\n\u001b[0;32m   1422\u001b[0m         \u001b[1;32melif\u001b[0m \u001b[0mlevel\u001b[0m \u001b[1;33m!=\u001b[0m \u001b[0mself\u001b[0m\u001b[1;33m.\u001b[0m\u001b[0mname\u001b[0m\u001b[1;33m:\u001b[0m\u001b[1;33m\u001b[0m\u001b[1;33m\u001b[0m\u001b[0m\n\u001b[0;32m   1423\u001b[0m             raise KeyError('Level %s must be same as name (%s)' %\n\u001b[1;32m-> 1424\u001b[1;33m                            (level, self.name))\n\u001b[0m\u001b[0;32m   1425\u001b[0m \u001b[1;33m\u001b[0m\u001b[0m\n\u001b[0;32m   1426\u001b[0m     \u001b[1;32mdef\u001b[0m \u001b[0m_get_level_number\u001b[0m\u001b[1;33m(\u001b[0m\u001b[0mself\u001b[0m\u001b[1;33m,\u001b[0m \u001b[0mlevel\u001b[0m\u001b[1;33m)\u001b[0m\u001b[1;33m:\u001b[0m\u001b[1;33m\u001b[0m\u001b[1;33m\u001b[0m\u001b[0m\n",
      "\u001b[1;31mKeyError\u001b[0m: 'Level date must be same as name (None)'"
     ]
    }
   ],
   "source": [
    "c.basic_step()"
   ]
  },
  {
   "cell_type": "code",
   "execution_count": null,
   "metadata": {},
   "outputs": [],
   "source": []
  },
  {
   "cell_type": "code",
   "execution_count": 103,
   "metadata": {},
   "outputs": [],
   "source": []
  },
  {
   "cell_type": "code",
   "execution_count": 104,
   "metadata": {},
   "outputs": [
    {
     "name": "stdout",
     "output_type": "stream",
     "text": [
      "<class 'pandas.core.frame.DataFrame'>\n",
      "DatetimeIndex: 263 entries, 2019-02-13 to 2018-12-26\n",
      "Data columns (total 1 columns):\n",
      "date    263 non-null int64\n",
      "dtypes: int64(1)\n",
      "memory usage: 4.1 KB\n"
     ]
    }
   ],
   "source": []
  },
  {
   "cell_type": "code",
   "execution_count": 106,
   "metadata": {},
   "outputs": [
    {
     "data": {
      "text/plain": [
       "<matplotlib.axes._subplots.AxesSubplot at 0x2437bcfcac8>"
      ]
     },
     "execution_count": 106,
     "metadata": {},
     "output_type": "execute_result"
    },
    {
     "data": {
      "image/png": "[encoded data removed]",
      "text/plain": [
       "<Figure size 432x288 with 1 Axes>"
      ]
     },
     "metadata": {
      "needs_background": "light"
     },
     "output_type": "display_data"
    }
   ],
   "source": []
  },
  {
   "cell_type": "code",
   "execution_count": 64,
   "metadata": {},
   "outputs": [],
   "source": [
    "c.simplify_info()"
   ]
  },
  {
   "cell_type": "code",
   "execution_count": 65,
   "metadata": {},
   "outputs": [
    {
     "name": "stdout",
     "output_type": "stream",
     "text": [
      "The total number of error codes after cleansing:212452\n",
      "with ealierst date 0    2019-07-17\n",
      "Name: date, dtype: object and latest date 212451    2019-01-18\n",
      "Name: date, dtype: object\n"
     ]
    }
   ],
   "source": [
    "c.after_info()"
   ]
  },
  {
   "cell_type": "code",
   "execution_count": null,
   "metadata": {},
   "outputs": [],
   "source": []
  }
 ],
 "metadata": {
  "kernelspec": {
   "display_name": "Python 3",
   "language": "python",
   "name": "python3"
  },
  "language_info": {
   "codemirror_mode": {
    "name": "ipython",
    "version": 3
   },
   "file_extension": ".py",
   "mimetype": "text/x-python",
   "name": "python",
   "nbconvert_exporter": "python",
   "pygments_lexer": "ipython3",
   "version": "3.7.3"
  }
 },
 "nbformat": 4,
 "nbformat_minor": 2
}
