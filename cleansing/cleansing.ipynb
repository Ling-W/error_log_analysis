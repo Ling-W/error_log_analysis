{
 "cells": [
  {
   "cell_type": "code",
   "execution_count": 9,
   "metadata": {},
   "outputs": [],
   "source": [
    "import pandas as pd\n",
    "import numpy as np"
   ]
  },
  {
   "cell_type": "code",
   "execution_count": 10,
   "metadata": {},
   "outputs": [],
   "source": [
    "data_path = 'C:/Users/liwu/XstoreLogProject/data/'\n",
    "file_name = 'errorLog_v1.csv'"
   ]
  },
  {
   "cell_type": "code",
   "execution_count": 11,
   "metadata": {},
   "outputs": [],
   "source": [
    "class cleansing:\n",
    "    def __init__(self, data_path, file_name):\n",
    "        self.data_path = data_path\n",
    "        self.file_name = file_name\n",
    "    \n",
    "    def parse_basic(self):\n",
    "        df = pd.read_csv(data_path + file_name)\n",
    "        df['date'] = df._time.str[:10]\n",
    "        df['time'] = df._time.str[11:19]\n",
    "\n",
    "        #basic cleansing\n",
    "        df.isnull()\n",
    "        df.dropna(axis=0,how='any')\n",
    "        df.replace(to_replace=None,value=None)\n",
    "        \n",
    "        df.drop('_time',axis = 1)\n",
    "        df.drop_duplicates()\n",
    "        df.to_csv(self.data_path+self.file_name + '_clean_parse_basic.csv', index=False)\n",
    "    \n",
    "    \n",
    "    def simplify_info(self):\n",
    "        '''\n",
    "    This version of data cleansing added the day of week and hour,\n",
    "    and eliminated the original _time.\n",
    "    Moreover, it dropped duplicates of the errors happening in the same hour.\n",
    "    '''\n",
    "        df = pd.read_csv(self.file_name + '_clean_parse_basic.csv')\n",
    "        df['hour'] = df.time.str[:2]\n",
    "        df.drop('time',axis = 1, inplace = True)\n",
    "        df.drop('_time',axis =1, inplace = True)\n",
    "        #Remove duplicate rows with same error code and description that happens in the same minute\n",
    "        df.drop_duplicates(inplace = True)\n",
    "        df['date'] = pd.to_datetime(df.date)\n",
    "        df['weekday'] = df.date.dt.weekday\n",
    "        df.to_csv(self.data_path + self.file_name + '_clean_simplify_info.csv',index=False)\n",
    "        \n",
    "    \n",
    "        \n",
    "        \n",
    "        \n",
    "\n"
   ]
  },
  {
   "cell_type": "code",
   "execution_count": 12,
   "metadata": {},
   "outputs": [],
   "source": [
    "c = cleansing(data_path, file_name)\n",
    "c.parse_basic()\n",
    "c.simplify_info()\n"
   ]
  },
  {
   "cell_type": "code",
   "execution_count": null,
   "metadata": {},
   "outputs": [],
   "source": []
  },
  {
   "cell_type": "code",
   "execution_count": null,
   "metadata": {},
   "outputs": [],
   "source": []
  }
 ],
 "metadata": {
  "kernelspec": {
   "display_name": "Python 3",
   "language": "python",
   "name": "python3"
  },
  "language_info": {
   "codemirror_mode": {
    "name": "ipython",
    "version": 3
   },
   "file_extension": ".py",
   "mimetype": "text/x-python",
   "name": "python",
   "nbconvert_exporter": "python",
   "pygments_lexer": "ipython3",
   "version": "3.7.3"
  }
 },
 "nbformat": 4,
 "nbformat_minor": 2
}
