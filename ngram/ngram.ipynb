{
 "cells": [
  {
   "cell_type": "code",
   "execution_count": 15,
   "metadata": {},
   "outputs": [],
   "source": [
    "import numpy as np\n",
    "import pandas as pd\n",
    "import tensorflow as tf\n",
    "from collections import Counter\n",
    "from sklearn import svm\n",
    "from sklearn.model_selection import train_test_split"
   ]
  },
  {
   "cell_type": "code",
   "execution_count": 16,
   "metadata": {},
   "outputs": [],
   "source": [
    "file_path = 'C:/Users/liwu/XstoreLogProject/data'\n",
    "file_name = 'xstore_error_log_reduce_single.csv'"
   ]
  },
  {
   "cell_type": "code",
   "execution_count": 17,
   "metadata": {},
   "outputs": [],
   "source": [
    "#data prepocessing\n",
    "def generate_ngram(s,n = 6):\n",
    "    lst = s.tolist()\n",
    "    res = []\n",
    "    for i in range(len(lst) + 1 - 1):\n",
    "        t = tuple(lst[i:i + n])\n",
    "        if(len(t) == n):\n",
    "            res.append(t)\n",
    "    uniqval = list(set(lst))     \n",
    "    return uniqval,res\n",
    "\n",
    "#count frequency\n",
    "def frequency(lst):\n",
    " \n",
    "    c = Counter(lst)\n",
    "    return\n",
    "   \n",
    "\n",
    "def vec_mapping(val, ngram):\n",
    "    d = dict([(v,k) for k,v in enumerate(val)])\n",
    "    print(d)\n",
    "    result = []\n",
    "    for i in ngram:\n",
    "        new_i = [0]*35\n",
    "        for j in i:\n",
    "            new_i[d[j]] = 1\n",
    "        result.append(new_i)\n",
    "    return result\n",
    "\n",
    "\n",
    "\n",
    "    \n",
    "        "
   ]
  },
  {
   "cell_type": "code",
   "execution_count": 18,
   "metadata": {},
   "outputs": [],
   "source": [
    "df = pd.read_csv(file_path + '/' + file_name)"
   ]
  },
  {
   "cell_type": "code",
   "execution_count": 19,
   "metadata": {},
   "outputs": [
    {
     "name": "stdout",
     "output_type": "stream",
     "text": [
      "{'ORA-26040': 0, 'ORA-06550': 1, 'ORA-01555': 2, 'ORA-00942': 3, 'ORA-01722': 4, 'ORA-12528': 5, 'ORA-12518': 6, 'ORA-28000': 7, 'ORA-01089': 8, 'ORA-01775': 9, 'ORA-01033': 10, 'ORA-12899': 11, 'ORA-01578': 12, 'ORA-00904': 13, 'ORA-00980': 14, 'ORA-12519': 15, 'ORA-12526': 16, 'ORA-01400': 17, 'ORA-00600': 18, 'ORA-00018': 19, 'ORA-01461': 20, 'ORA-01116': 21, 'ORA-00001': 22, 'ORA-01110': 23, 'ORA-00936': 24, 'ORA-31623': 25, 'ORA-01460': 26, 'ORA-04045': 27, 'ORA-01017': 28, 'ORA-12505': 29, 'ORA-01013': 30, 'ORA-00604': 31, 'ORA-01502': 32, 'ORA-01653': 33, 'ORA-01092': 34}\n"
     ]
    }
   ],
   "source": [
    "unique_vals,ngram_lst = generate_ngram(df.oracle_error_code)\n",
    "frequency(ngram_lst)\n",
    "X = vec_mapping(unique_vals, ngram_lst)\n"
   ]
  },
  {
   "cell_type": "code",
   "execution_count": 20,
   "metadata": {},
   "outputs": [],
   "source": [
    "X_train, X_test = train_test_split(X, test_size = 0.25, random_state = 42)"
   ]
  },
  {
   "cell_type": "code",
   "execution_count": 21,
   "metadata": {},
   "outputs": [],
   "source": [
    "ocsvm = svm.OneClassSVM(kernel = 'rbf', gamma = 0.1, nu = 0.1)\n",
    "ocsvm.fit(X_train)\n",
    "y_pred_train = ocsvm.predict(X_train)"
   ]
  },
  {
   "cell_type": "code",
   "execution_count": 22,
   "metadata": {},
   "outputs": [],
   "source": [
    "y_pred_test = ocsvm.predict(X_test)"
   ]
  },
  {
   "cell_type": "code",
   "execution_count": 23,
   "metadata": {},
   "outputs": [
    {
     "name": "stdout",
     "output_type": "stream",
     "text": [
      "[-1  1  1 ...  1  1  1]\n"
     ]
    }
   ],
   "source": [
    "print(y_pred_test)"
   ]
  },
  {
   "cell_type": "code",
   "execution_count": 24,
   "metadata": {},
   "outputs": [
    {
     "name": "stdout",
     "output_type": "stream",
     "text": [
      "486\n"
     ]
    }
   ],
   "source": [
    "count  = 0\n",
    "for i in y_pred_test:\n",
    "    if i < 0:\n",
    "        count += 1\n",
    "print(count)"
   ]
  },
  {
   "cell_type": "code",
   "execution_count": 25,
   "metadata": {},
   "outputs": [
    {
     "name": "stdout",
     "output_type": "stream",
     "text": [
      "4464\n"
     ]
    }
   ],
   "source": [
    "print(len(y_pred_test))"
   ]
  },
  {
   "cell_type": "code",
   "execution_count": 29,
   "metadata": {},
   "outputs": [
    {
     "name": "stderr",
     "output_type": "stream",
     "text": [
      "c:\\users\\liwu\\appdata\\local\\programs\\python\\python37\\lib\\site-packages\\ipykernel_launcher.py:2: FutureWarning: The signature of `Series.to_csv` was aligned to that of `DataFrame.to_csv`, and argument 'header' will change its default value from False to True: please pass an explicit value to suppress this warning.\n",
      "  \n"
     ]
    }
   ],
   "source": [
    "emb = pd.Series(X)\n",
    "emb.to_csv(file_path + \"/\" + \"ngram_embedding.txt\", index = False, sep = '\\t')"
   ]
  },
  {
   "cell_type": "code",
   "execution_count": null,
   "metadata": {},
   "outputs": [],
   "source": []
  }
 ],
 "metadata": {
  "kernelspec": {
   "display_name": "Python 3",
   "language": "python",
   "name": "python3"
  },
  "language_info": {
   "codemirror_mode": {
    "name": "ipython",
    "version": 3
   },
   "file_extension": ".py",
   "mimetype": "text/x-python",
   "name": "python",
   "nbconvert_exporter": "python",
   "pygments_lexer": "ipython3",
   "version": "3.7.3"
  }
 },
 "nbformat": 4,
 "nbformat_minor": 2
}
