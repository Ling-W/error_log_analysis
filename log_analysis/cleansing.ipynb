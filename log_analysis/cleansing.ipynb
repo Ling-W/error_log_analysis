{
 "cells": [
  {
   "cell_type": "code",
   "execution_count": 14,
   "metadata": {},
   "outputs": [],
   "source": [
    "import pandas as pd\n",
    "import numpy as np"
   ]
  },
  {
   "cell_type": "code",
   "execution_count": 15,
   "metadata": {},
   "outputs": [],
   "source": [
    "data_path = 'C:/Users/liwu/XstoreLogProject/data/'\n",
    "file_name = 'xstore_error_log.csv'"
   ]
  },
  {
   "cell_type": "code",
   "execution_count": 16,
   "metadata": {},
   "outputs": [],
   "source": [
    "class cleansing:\n",
    "    def __init__(self, data_path, file_name):\n",
    "        self.data_path = data_path\n",
    "        self.file_name = file_name\n",
    "    \n",
    "    def before_info(self):\n",
    "        df = pd.read_csv(data_path + file_name)\n",
    "        shape = df.shape\n",
    "        df.describe()\n",
    "        df.info()\n",
    "        df.head()\n",
    "        print(\"The total number of error codes before cleansing:{}\".format(str(shape[0])))\n",
    "        #print(\"with ealierst date {} and latest date {}\".format(df.iloc[[0], df.columns.get_loc('time')],df.iloc[[-1], df.columns.get_loc('time')]))\n",
    "    \n",
    "    def parse_basic(self):\n",
    "        df = pd.read_csv(data_path + file_name)\n",
    "        df['date'] = df.time.str[:10]\n",
    "        df['time'] = df.time.str[11:19]\n",
    "\n",
    "        #basic cleansing\n",
    "        df.isnull()\n",
    "        df.dropna(axis=0,how='any')\n",
    "        df.replace(to_replace=None,value=None)\n",
    "        df.to_csv(self.data_path+self.file_name + '_clean_parse_basic.csv', index=False)\n",
    "    \n",
    "    \n",
    "    def simplify_info(self):\n",
    "        '''\n",
    "        This version of data cleansing added the day of week and hour,\n",
    "        and eliminated the original _time.\n",
    "        Moreover, it dropped duplicates of the errors happening in the same hour.\n",
    "        '''\n",
    "        df = pd.read_csv(self.data_path + self.file_name + '_clean_parse_basic.csv')\n",
    "        df['hour'] = df.time.str[:2]\n",
    "        df['time'] = df.time.str[:5]\n",
    "        #Remove duplicate rows with same error code and description that happens in the same minute\n",
    "        df.drop_duplicates(inplace = True)\n",
    "        df['date'] = pd.to_datetime(df.date)\n",
    "        df['weekday'] = df.date.dt.weekday\n",
    "        df.to_csv(self.data_path + self.file_name + '_clean_simplify_info.csv',index=False)\n",
    "        \n",
    "    def reduce_single(self):\n",
    "        df = pd.read_csv(self.data_path + self.file_name + '_clean_simplify_info.csv')\n",
    "        df.drop(['time'], axis = 1, inplace = True)\n",
    "        df.drop_duplicates(inplace = True)\n",
    "        df.to_csv(self.data_path + 'reduce_single_' + self.file_name)\n",
    "        \n",
    "    def after_info(self):\n",
    "        df = pd.read_csv(self.data_path + self.file_name + '_clean_simplify_info.csv')\n",
    "        shape = df.shape\n",
    "        print(\"The total number of error codes after cleansing:{}\".format(str(shape[0])))\n",
    "        print(\"with ealierst date {} and latest date {}\".format(df.iloc[[0], df.columns.get_loc('date')],df.iloc[[-1], df.columns.get_loc('date')]))\n",
    "    \n",
    "        \n",
    "        \n",
    "    \n",
    "        \n",
    "        \n",
    "        \n",
    "\n"
   ]
  },
  {
   "cell_type": "code",
   "execution_count": 17,
   "metadata": {},
   "outputs": [],
   "source": [
    "c = cleansing(data_path, file_name)"
   ]
  },
  {
   "cell_type": "code",
   "execution_count": 18,
   "metadata": {},
   "outputs": [
    {
     "name": "stdout",
     "output_type": "stream",
     "text": [
      "<class 'pandas.core.frame.DataFrame'>\n",
      "RangeIndex: 10098183 entries, 0 to 10098182\n",
      "Data columns (total 3 columns):\n",
      "time                 object\n",
      "oracle_error_code    object\n",
      "oracle_error_desc    object\n",
      "dtypes: object(3)\n",
      "memory usage: 231.1+ MB\n",
      "The total number of error codes before cleansing:10098183\n"
     ]
    }
   ],
   "source": [
    "c.before_info()"
   ]
  },
  {
   "cell_type": "code",
   "execution_count": 10,
   "metadata": {},
   "outputs": [],
   "source": [
    "c.parse_basic()"
   ]
  },
  {
   "cell_type": "code",
   "execution_count": 11,
   "metadata": {},
   "outputs": [],
   "source": [
    "c.simplify_info()"
   ]
  },
  {
   "cell_type": "code",
   "execution_count": 12,
   "metadata": {},
   "outputs": [],
   "source": [
    "c.reduce_single()"
   ]
  },
  {
   "cell_type": "code",
   "execution_count": 13,
   "metadata": {},
   "outputs": [
    {
     "name": "stdout",
     "output_type": "stream",
     "text": [
      "The total number of error codes after cleansing:212452\n",
      "with ealierst date 0    2019-07-17\n",
      "Name: date, dtype: object and latest date 212451    2019-01-18\n",
      "Name: date, dtype: object\n"
     ]
    }
   ],
   "source": [
    "c.after_info()"
   ]
  },
  {
   "cell_type": "code",
   "execution_count": null,
   "metadata": {},
   "outputs": [],
   "source": []
  }
 ],
 "metadata": {
  "kernelspec": {
   "display_name": "Python 3",
   "language": "python",
   "name": "python3"
  },
  "language_info": {
   "codemirror_mode": {
    "name": "ipython",
    "version": 3
   },
   "file_extension": ".py",
   "mimetype": "text/x-python",
   "name": "python",
   "nbconvert_exporter": "python",
   "pygments_lexer": "ipython3",
   "version": "3.7.3"
  }
 },
 "nbformat": 4,
 "nbformat_minor": 2
}
