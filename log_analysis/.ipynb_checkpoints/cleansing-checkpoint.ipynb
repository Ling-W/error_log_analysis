{
 "cells": [
  {
   "cell_type": "code",
   "execution_count": 22,
   "metadata": {},
   "outputs": [],
   "source": [
    "import pandas as pd\n",
    "import numpy as np"
   ]
  },
  {
   "cell_type": "code",
   "execution_count": 40,
   "metadata": {},
   "outputs": [],
   "source": [
    "data_path = 'C:/Users/liwu/XstoreLogProject/data/'\n",
    "file_name = 'xstore_error_log.csv'"
   ]
  },
  {
   "cell_type": "code",
   "execution_count": 62,
   "metadata": {},
   "outputs": [],
   "source": [
    "class cleansing:\n",
    "    def __init__(self, data_path, file_name):\n",
    "        self.data_path = data_path\n",
    "        self.file_name = file_name\n",
    "    \n",
    "    def before_info(self):\n",
    "        df = pd.read_csv(data_path + file_name)\n",
    "        shape = df.shape\n",
    "        print(\"The total number of error codes before cleansing:{}\".format(str(shape[0])))\n",
    "        print(\"with ealierst date {} and latest date {}\".format(df.iloc[[0], df.columns.get_loc('time')],df.iloc[[-1], df.columns.get_loc('time')]))\n",
    "    \n",
    "    def parse_basic(self):\n",
    "        df = pd.read_csv(data_path + file_name)\n",
    "        df['date'] = df.time.str[:10]\n",
    "        df['time'] = df.time.str[11:19]\n",
    "\n",
    "        #basic cleansing\n",
    "        df.isnull()\n",
    "        df.dropna(axis=0,how='any')\n",
    "        df.replace(to_replace=None,value=None)\n",
    "        df.to_csv(self.data_path+self.file_name + '_clean_parse_basic.csv', index=False)\n",
    "    \n",
    "    \n",
    "    def simplify_info(self):\n",
    "        '''\n",
    "        This version of data cleansing added the day of week and hour,\n",
    "        and eliminated the original _time.\n",
    "        Moreover, it dropped duplicates of the errors happening in the same hour.\n",
    "        '''\n",
    "        df = pd.read_csv(self.data_path + self.file_name + '_clean_parse_basic.csv')\n",
    "        df['hour'] = df.time.str[:2]\n",
    "        df['time'] = df.time.str[:5]\n",
    "        #Remove duplicate rows with same error code and description that happens in the same minute\n",
    "        df.drop_duplicates(inplace = True)\n",
    "        df['date'] = pd.to_datetime(df.date)\n",
    "        df['weekday'] = df.date.dt.weekday\n",
    "        df.to_csv(self.data_path + self.file_name + '_clean_simplify_info.csv',index=False)\n",
    "        \n",
    "    def reduce_single(self):\n",
    "        \n",
    "        \n",
    "    def after_info(self):\n",
    "        df = pd.read_csv(self.data_path + self.file_name + '_clean_simplify_info.csv')\n",
    "        shape = df.shape\n",
    "        print(\"The total number of error codes after cleansing:{}\".format(str(shape[0])))\n",
    "        print(\"with ealierst date {} and latest date {}\".format(df.iloc[[0], df.columns.get_loc('date')],df.iloc[[-1], df.columns.get_loc('date')]))\n",
    "    \n",
    "        \n",
    "        \n",
    "    \n",
    "        \n",
    "        \n",
    "        \n",
    "\n"
   ]
  },
  {
   "cell_type": "code",
   "execution_count": 63,
   "metadata": {},
   "outputs": [],
   "source": [
    "c = cleansing(data_path, file_name)"
   ]
  },
  {
   "cell_type": "code",
   "execution_count": 58,
   "metadata": {},
   "outputs": [
    {
     "name": "stdout",
     "output_type": "stream",
     "text": [
      "The total number of error codes before cleansing:10098183\n",
      "with ealierst date 0    2019-07-17 18:51:57\n",
      "Name: time, dtype: object and latest date 10098182    2019-01-17 02:32:37\n",
      "Name: time, dtype: object\n"
     ]
    }
   ],
   "source": [
    "c.before_info()"
   ]
  },
  {
   "cell_type": "code",
   "execution_count": 47,
   "metadata": {},
   "outputs": [],
   "source": [
    "c.parse_basic()"
   ]
  },
  {
   "cell_type": "code",
   "execution_count": null,
   "metadata": {},
   "outputs": [],
   "source": []
  },
  {
   "cell_type": "code",
   "execution_count": 64,
   "metadata": {},
   "outputs": [],
   "source": [
    "c.simplify_info()"
   ]
  },
  {
   "cell_type": "code",
   "execution_count": 65,
   "metadata": {},
   "outputs": [
    {
     "name": "stdout",
     "output_type": "stream",
     "text": [
      "The total number of error codes after cleansing:212452\n",
      "with ealierst date 0    2019-07-17\n",
      "Name: date, dtype: object and latest date 212451    2019-01-18\n",
      "Name: date, dtype: object\n"
     ]
    }
   ],
   "source": [
    "c.after_info()"
   ]
  },
  {
   "cell_type": "code",
   "execution_count": null,
   "metadata": {},
   "outputs": [],
   "source": []
  }
 ],
 "metadata": {
  "kernelspec": {
   "display_name": "Python 3",
   "language": "python",
   "name": "python3"
  },
  "language_info": {
   "codemirror_mode": {
    "name": "ipython",
    "version": 3
   },
   "file_extension": ".py",
   "mimetype": "text/x-python",
   "name": "python",
   "nbconvert_exporter": "python",
   "pygments_lexer": "ipython3",
   "version": "3.7.3"
  }
 },
 "nbformat": 4,
 "nbformat_minor": 2
}
